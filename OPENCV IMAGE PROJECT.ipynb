{
 "cells": [
  {
   "cell_type": "code",
   "execution_count": 1,
   "id": "3fa8ea7b",
   "metadata": {},
   "outputs": [
    {
     "name": "stdout",
     "output_type": "stream",
     "text": [
      "Requirement already satisfied: opencv-python in c:\\users\\sanya\\anaconda3\\lib\\site-packages (4.9.0.80)\n",
      "Requirement already satisfied: numpy>=1.21.2 in c:\\users\\sanya\\anaconda3\\lib\\site-packages (from opencv-python) (1.24.3)\n"
     ]
    }
   ],
   "source": [
    "!pip install opencv-python\n"
   ]
  },
  {
   "cell_type": "code",
   "execution_count": 2,
   "id": "03f5367e",
   "metadata": {},
   "outputs": [],
   "source": [
    "import cv2\n",
    "import numpy as np "
   ]
  },
  {
   "cell_type": "markdown",
   "id": "1047f19c",
   "metadata": {},
   "source": [
    "# READ AN IMAGE"
   ]
  },
  {
   "cell_type": "code",
   "execution_count": 3,
   "id": "bd66ef08",
   "metadata": {},
   "outputs": [
    {
     "name": "stdout",
     "output_type": "stream",
     "text": [
      "<class 'numpy.ndarray'>\n"
     ]
    }
   ],
   "source": [
    "img =cv2.imread(\"airplane.png\")\n",
    "print(type(img))"
   ]
  },
  {
   "cell_type": "code",
   "execution_count": 4,
   "id": "db2effa4",
   "metadata": {},
   "outputs": [
    {
     "name": "stdout",
     "output_type": "stream",
     "text": [
      "(240, 360, 3)\n"
     ]
    }
   ],
   "source": [
    "print(img.shape)"
   ]
  },
  {
   "cell_type": "markdown",
   "id": "84b6e41b",
   "metadata": {},
   "source": [
    "# It's resolution is  240,360 and has 3 channel because it is RGB image "
   ]
  },
  {
   "cell_type": "code",
   "execution_count": 5,
   "id": "4cf5c374",
   "metadata": {},
   "outputs": [
    {
     "data": {
      "text/plain": [
       "-1"
      ]
     },
     "execution_count": 5,
     "metadata": {},
     "output_type": "execute_result"
    }
   ],
   "source": [
    "cv2.imshow('window',img)\n",
    "cv2.waitKey(0)"
   ]
  },
  {
   "cell_type": "markdown",
   "id": "eb2fc8ee",
   "metadata": {},
   "source": [
    "# for image display"
   ]
  },
  {
   "cell_type": "markdown",
   "id": "d4d95863",
   "metadata": {},
   "source": [
    "# CONVERTING THE RGB IMAGE TO GREY SCALE IMAGE "
   ]
  },
  {
   "cell_type": "code",
   "execution_count": 6,
   "id": "d02ed109",
   "metadata": {},
   "outputs": [
    {
     "name": "stdout",
     "output_type": "stream",
     "text": [
      "The shape of image is -- (240, 360)\n"
     ]
    },
    {
     "data": {
      "text/plain": [
       "-1"
      ]
     },
     "execution_count": 6,
     "metadata": {},
     "output_type": "execute_result"
    }
   ],
   "source": [
    "img_gray =cv2.cvtColor(img,cv2.COLOR_BGR2GRAY)\n",
    "print('The shape of image is --',img_gray.shape)\n",
    "cv2.imshow('window',img_gray)\n",
    "cv2.waitKey(0)"
   ]
  },
  {
   "cell_type": "markdown",
   "id": "13faca57",
   "metadata": {},
   "source": [
    "# Now the image is changed to  grey "
   ]
  },
  {
   "cell_type": "code",
   "execution_count": 7,
   "id": "bb86f5d3",
   "metadata": {},
   "outputs": [
    {
     "data": {
      "text/plain": [
       "-1"
      ]
     },
     "execution_count": 7,
     "metadata": {},
     "output_type": "execute_result"
    }
   ],
   "source": [
    "imgBlue = img[:,:,0]\n",
    "imgGreen = img[:,:,1]\n",
    "imgRed = img[:,:,2]\n",
    "\n",
    "new_img= np.hstack((imgBlue,imgGreen,imgRed))\n",
    "\n",
    "cv2.imshow('window',new_img)\n",
    "cv2.waitKey(0)"
   ]
  },
  {
   "cell_type": "markdown",
   "id": "735056bd",
   "metadata": {},
   "source": [
    "# If in a case we  have to analyze each color image than we can use this ."
   ]
  },
  {
   "cell_type": "markdown",
   "id": "2f8c010f",
   "metadata": {},
   "source": [
    "# 1st one only Blue color , 2nd only green color , 3rd is only red color"
   ]
  },
  {
   "cell_type": "markdown",
   "id": "53ab3994",
   "metadata": {},
   "source": [
    "# RESIZE THE IMAGE "
   ]
  },
  {
   "cell_type": "code",
   "execution_count": 8,
   "id": "7f8a89b4",
   "metadata": {},
   "outputs": [
    {
     "name": "stdout",
     "output_type": "stream",
     "text": [
      "Image shape: (240, 360, 3)\n",
      "Image dtype: uint8\n",
      "(100, 100, 3)\n"
     ]
    }
   ],
   "source": [
    "\n",
    "print(\"Image shape:\", img.shape)\n",
    "print(\"Image dtype:\", img.dtype)\n",
    "img_resize=  cv2.resize(img,(100,100))\n",
    "cv2.imshow('window',img_resize)\n",
    "\n",
    "# Add a delay (in milliseconds) and wait for a key press\n",
    "cv2.waitKey(0)\n",
    "\n",
    "# Close all OpenCV windows\n",
    "cv2.destroyAllWindows()\n",
    "\n",
    "print(img_resize.shape)"
   ]
  },
  {
   "cell_type": "markdown",
   "id": "52b613ae",
   "metadata": {},
   "source": [
    "# To reduce the size of image by half."
   ]
  },
  {
   "cell_type": "code",
   "execution_count": 9,
   "id": "a5490d21",
   "metadata": {},
   "outputs": [],
   "source": [
    "img_resize=  cv2.resize(img,(img.shape[1]//2,img.shape[0]//2))\n",
    "cv2.imshow('window',img_resize)\n",
    "\n",
    "# Add a delay (in milliseconds) and wait for a key press\n",
    "cv2.waitKey(0)\n",
    "\n",
    "# Close all OpenCV windows\n",
    "cv2.destroyAllWindows()"
   ]
  },
  {
   "cell_type": "markdown",
   "id": "d9a9d408",
   "metadata": {},
   "source": [
    "# Fliping the image"
   ]
  },
  {
   "cell_type": "markdown",
   "id": "64e11bc9",
   "metadata": {},
   "source": [
    "# 1- Upside down the image "
   ]
  },
  {
   "cell_type": "code",
   "execution_count": 10,
   "id": "5a0b71da",
   "metadata": {},
   "outputs": [
    {
     "data": {
      "text/plain": [
       "-1"
      ]
     },
     "execution_count": 10,
     "metadata": {},
     "output_type": "execute_result"
    }
   ],
   "source": [
    "img_flip= cv2.flip(img,0)\n",
    "cv2.imshow('window',img_flip)\n",
    "cv2.waitKey(0)"
   ]
  },
  {
   "cell_type": "markdown",
   "id": "25ad9c11",
   "metadata": {},
   "source": [
    "# 2- Flipping in horizontal axis ."
   ]
  },
  {
   "cell_type": "code",
   "execution_count": 11,
   "id": "6336ac8a",
   "metadata": {},
   "outputs": [
    {
     "data": {
      "text/plain": [
       "-1"
      ]
     },
     "execution_count": 11,
     "metadata": {},
     "output_type": "execute_result"
    }
   ],
   "source": [
    "img_flip= cv2.flip(img,1)\n",
    "cv2.imshow('window',img_flip)\n",
    "cv2.waitKey(0)"
   ]
  },
  {
   "cell_type": "markdown",
   "id": "51e80ea2",
   "metadata": {},
   "source": [
    "# 3- Fliiping the  image both horizontally and vertically ."
   ]
  },
  {
   "cell_type": "code",
   "execution_count": 12,
   "id": "dd307158",
   "metadata": {},
   "outputs": [
    {
     "data": {
      "text/plain": [
       "-1"
      ]
     },
     "execution_count": 12,
     "metadata": {},
     "output_type": "execute_result"
    }
   ],
   "source": [
    "img_flip= cv2.flip(img,-1)\n",
    "cv2.imshow('window',img_flip)\n",
    "cv2.waitKey(0)"
   ]
  },
  {
   "cell_type": "markdown",
   "id": "a379c10c",
   "metadata": {},
   "source": [
    "# Cropping the image ."
   ]
  },
  {
   "cell_type": "code",
   "execution_count": 13,
   "id": "e8bd975a",
   "metadata": {},
   "outputs": [
    {
     "data": {
      "text/plain": [
       "-1"
      ]
     },
     "execution_count": 13,
     "metadata": {},
     "output_type": "execute_result"
    }
   ],
   "source": [
    "img_crop= img[100:300,200:400]\n",
    "cv2.imshow('window',img_crop)\n",
    "cv2.waitKey(0)"
   ]
  },
  {
   "cell_type": "code",
   "execution_count": 14,
   "id": "2d195f83",
   "metadata": {},
   "outputs": [
    {
     "data": {
      "text/plain": [
       "-1"
      ]
     },
     "execution_count": 14,
     "metadata": {},
     "output_type": "execute_result"
    }
   ],
   "source": [
    "img_crop= img[0:100,0:200]\n",
    "cv2.imshow('window',img_crop)\n",
    "cv2.waitKey(0)"
   ]
  },
  {
   "cell_type": "markdown",
   "id": "13b600bf",
   "metadata": {},
   "source": [
    "# Save an image ."
   ]
  },
  {
   "cell_type": "code",
   "execution_count": 15,
   "id": "dd013366",
   "metadata": {},
   "outputs": [
    {
     "data": {
      "text/plain": [
       "-1"
      ]
     },
     "execution_count": 15,
     "metadata": {},
     "output_type": "execute_result"
    }
   ],
   "source": [
    "img_crop= img[0:100,0:200]\n",
    "cv2.imwrite('airplane_lite.png',img_crop)\n",
    "cv2.imshow('window',img_crop)\n",
    "cv2.waitKey(0)"
   ]
  },
  {
   "cell_type": "markdown",
   "id": "4158b490",
   "metadata": {},
   "source": [
    "# How to draw an image ."
   ]
  },
  {
   "cell_type": "code",
   "execution_count": 16,
   "id": "0a2879bf",
   "metadata": {},
   "outputs": [
    {
     "data": {
      "text/plain": [
       "-1"
      ]
     },
     "execution_count": 16,
     "metadata": {},
     "output_type": "execute_result"
    }
   ],
   "source": [
    "# Read an image\n",
    "\n",
    "img1 = np.zeros((512,512,3))\n",
    "\n",
    "#RECTANGLE\n",
    "\n",
    "cv2.rectangle(img1,pt1=(100,100),pt2=(300,300),color=(255,0,0),thickness=-1) # color = (255,0,0)means blue color , as order of BGR\n",
    "\n",
    "#CIRCLE \n",
    "\n",
    "cv2.circle(img1, center=(100,400), radius=50, color=(0,0,255), thickness=3)  # Red color\n",
    "\n",
    "#LINE\n",
    "\n",
    "cv2.line(img1,pt1=(0,0),pt2=(512,512),color=(0,255,0),thickness=4)\n",
    "\n",
    "#TEXT\n",
    "\n",
    "#cv2.putText(img,org=(100,100),fontscale=4,color =(0,255,255),thickness=2,lineType=cv2.LINE_AA,text='Hello World',fontFace=cv2.FONT_HERSHEY_SCRIPT_SIMPLEX)\n",
    "cv2.putText(img1, org=(100,100), fontScale=4, color=(0,255,255), thickness=2,lineType=cv2.LINE_AA, text='Hello ', fontFace=cv2.FONT_HERSHEY_SCRIPT_SIMPLEX)\n",
    "\n",
    "cv2.imshow('window',img1)\n",
    "cv2.waitKey(0)"
   ]
  },
  {
   "cell_type": "markdown",
   "id": "b873d87d",
   "metadata": {},
   "source": [
    "# Making an image in an infite loop, break by 'x' command  and make a circle on clicking ."
   ]
  },
  {
   "cell_type": "code",
   "execution_count": 17,
   "id": "00cbc7c4",
   "metadata": {},
   "outputs": [],
   "source": [
    "img2 = np.zeros((512,512,3))\n",
    "\n",
    "#read an image\n",
    "\n",
    "def draw(event,x,y,flags,params):\n",
    "    if event ==1:     # 1 is used for at the time of clicking \n",
    "        cv2.circle(img2,center =(x,y),radius=20,color =(0,0,255),thickness=-1)\n",
    "        \n",
    "cv2.namedWindow(winname='window')\n",
    "cv2.setMouseCallback('window',draw)\n",
    "\n",
    "while True:\n",
    "    \n",
    "    cv2.imshow('window',img2)\n",
    "    \n",
    "    if cv2.waitKey(1) & 0xFF==ord('x'):\n",
    "        break\n",
    "       \n",
    "cv2.destroyAllWindows()    \n",
    "    \n",
    "        "
   ]
  },
  {
   "cell_type": "markdown",
   "id": "4d91178c",
   "metadata": {},
   "source": [
    "# Now make a drag a drop rectengle in a image."
   ]
  },
  {
   "cell_type": "code",
   "execution_count": 18,
   "id": "5a061726",
   "metadata": {},
   "outputs": [],
   "source": [
    "img2 = np.zeros((512,512,3))\n",
    "\n",
    "#read an image\n",
    "\n",
    "flag =False\n",
    "ix=-1\n",
    "iy=-1\n",
    "\n",
    "def draw(event,x,y,flags,params):\n",
    "    \n",
    "    global flag, ix,iy\n",
    "    \n",
    "    \n",
    "    if event ==1:     # 1 is used for at the time of clicking \n",
    "        flag =True\n",
    "        ix=x\n",
    "        iy=y\n",
    "        \n",
    "    if event ==0:     # 0 is used for dragging\n",
    "         if flag == True:\n",
    "            cv2.rectangle(img2,pt1=(ix,iy),pt2=(x,y),color=(0,255,255),thickness=-1)\n",
    "        \n",
    "        \n",
    "    if event ==4:     # 4 for drop the mouse . \n",
    "        flag = False\n",
    "        cv2.rectangle(img2,pt1=(ix,iy),pt2=(x,y),color=(0,255,255),thickness=-1)\n",
    "             \n",
    "            \n",
    "cv2.namedWindow(winname='window')\n",
    "cv2.setMouseCallback('window',draw)\n",
    "\n",
    "while True:\n",
    "    \n",
    "    cv2.imshow('window',img2)\n",
    "    \n",
    "    if cv2.waitKey(1) & 0xFF==ord('x'):\n",
    "        break\n",
    "       \n",
    "cv2.destroyAllWindows()    \n",
    "    "
   ]
  },
  {
   "cell_type": "markdown",
   "id": "7fb22aa3",
   "metadata": {},
   "source": [
    "# Crop the image by the used of rectangle ."
   ]
  },
  {
   "cell_type": "code",
   "execution_count": 19,
   "id": "cc206db3",
   "metadata": {},
   "outputs": [],
   "source": [
    "img3 =cv2.imread(\"fruit.png\")\n",
    "\n",
    "img_resize=  cv2.resize(img3,(700,700))\n",
    "\n",
    "\n",
    "flag =False\n",
    "ix=-1\n",
    "iy=-1\n",
    "\n",
    "def crop(event,x,y,flags,params):\n",
    "    \n",
    "    global flag, ix,iy\n",
    "    \n",
    "    \n",
    "    if event ==1:     # 1 is used for at the time of clicking \n",
    "        flag =True\n",
    "        ix=x\n",
    "        iy=y\n",
    "        \n",
    "   \n",
    "        \n",
    "    elif event == 4:     # 4 for drop the mouse . \n",
    "        \n",
    "        fx= x\n",
    "        fy=y\n",
    "        \n",
    "        flag = False\n",
    "        cv2.rectangle(img_resize,pt1=(ix,iy),pt2=(x,y),color=(0,0,0),thickness=3)\n",
    "        \n",
    "        cropped= img_resize[iy:fy,ix:fx]\n",
    "        cv2.imshow('new_window',cropped)\n",
    "        cv2.waitKey(0)\n",
    "             \n",
    "            \n",
    "cv2.namedWindow(winname='window')\n",
    "cv2.setMouseCallback('window',crop)\n",
    "\n",
    "\n",
    "while True:\n",
    "    \n",
    "    cv2.imshow('window',img_resize)\n",
    "    \n",
    "    if cv2.waitKey(1) &  0xFF == ord('x'):\n",
    "        break\n",
    "\n",
    "\n",
    "# Close all OpenCV windows\n",
    "cv2.destroyAllWindows()\n",
    "\n"
   ]
  },
  {
   "cell_type": "markdown",
   "id": "2ba530a9",
   "metadata": {},
   "source": [
    "# Lets work on videos by OPENCV"
   ]
  },
  {
   "cell_type": "markdown",
   "id": "ac0e8f5a",
   "metadata": {},
   "source": [
    "# 1- How to open the WEBCAM using opencv."
   ]
  },
  {
   "cell_type": "code",
   "execution_count": 27,
   "id": "9cc74000",
   "metadata": {},
   "outputs": [],
   "source": [
    "cap =cv2.VideoCapture(0)\n",
    "\n",
    "while True:\n",
    "    ret,frame = cap.read()\n",
    "    cv2.imshow('webcam',frame)\n",
    "    \n",
    "    if cv2.waitKey(1) & 0xFF == ord('x'):\n",
    "        break\n",
    "        \n",
    "        \n",
    "cv2.destroyAllWindows()        "
   ]
  },
  {
   "cell_type": "markdown",
   "id": "2fca6d3d",
   "metadata": {},
   "source": [
    "# 2- Make the video as black and white."
   ]
  },
  {
   "cell_type": "code",
   "execution_count": 28,
   "id": "5a7230ef",
   "metadata": {},
   "outputs": [],
   "source": [
    "cap =cv2.VideoCapture(0)\n",
    "\n",
    "while True:\n",
    "    ret,frame = cap.read()\n",
    "    \n",
    "    img_gray= cv2.cvtColor(frame,cv2.COLOR_BGR2GRAY)\n",
    "    \n",
    "    cv2.imshow('webcam',img_gray)\n",
    "    \n",
    "    if cv2.waitKey(1) & 0xFF == ord('x'):\n",
    "        break\n",
    "        \n",
    "        \n",
    "cv2.destroyAllWindows() "
   ]
  },
  {
   "cell_type": "markdown",
   "id": "507d2dc7",
   "metadata": {},
   "source": [
    "# 3- Using different fonts during the video ."
   ]
  },
  {
   "cell_type": "code",
   "execution_count": 29,
   "id": "9234d88b",
   "metadata": {},
   "outputs": [],
   "source": [
    "cap =cv2.VideoCapture(0)\n",
    "\n",
    "while True:\n",
    "    ret,frame = cap.read()\n",
    "    \n",
    "    img_gray= cv2.cvtColor(frame,cv2.COLOR_BGR2LUV)\n",
    "    \n",
    "    cv2.imshow('webcam',img_gray)\n",
    "    \n",
    "    if cv2.waitKey(1) & 0xFF == ord('x'):\n",
    "        break\n",
    "        \n",
    "        \n",
    "cv2.destroyAllWindows() "
   ]
  },
  {
   "cell_type": "code",
   "execution_count": 30,
   "id": "06d36785",
   "metadata": {},
   "outputs": [],
   "source": [
    "cap =cv2.VideoCapture(0)\n",
    "\n",
    "while True:\n",
    "    ret,frame = cap.read()\n",
    "    \n",
    "    img_gray= cv2.cvtColor(frame,cv2.COLOR_BGR2RGB)\n",
    "    \n",
    "    cv2.imshow('webcam',img_gray)\n",
    "    \n",
    "    if cv2.waitKey(1) & 0xFF == ord('x'):\n",
    "        break\n",
    "        \n",
    "        \n",
    "cv2.destroyAllWindows()"
   ]
  },
  {
   "cell_type": "markdown",
   "id": "a8831391",
   "metadata": {},
   "source": [
    "# Storing the video ."
   ]
  },
  {
   "cell_type": "code",
   "execution_count": 31,
   "id": "d4a7bd3e",
   "metadata": {},
   "outputs": [],
   "source": [
    "cap =cv2.VideoCapture(0)\n",
    "forcc= cv2.VideoWriter_fourcc(*'XVID')\n",
    "out = cv2.VideoWriter('output.avi',forcc,20.0,(640,480))\n",
    "\n",
    "while True:\n",
    "    ret,frame = cap.read()\n",
    "    \n",
    "    \n",
    "    img_gray= cv2.cvtColor(frame,cv2.COLOR_BGR2RGB)\n",
    "    out.write(frame)\n",
    "    \n",
    "    cv2.imshow('webcam',img_gray)\n",
    "    \n",
    "    if cv2.waitKey(1) & 0xFF == ord('x'):\n",
    "        break\n",
    "        \n",
    "out.release()        \n",
    "cv2.destroyAllWindows()"
   ]
  },
  {
   "cell_type": "markdown",
   "id": "0adaffd5",
   "metadata": {},
   "source": [
    "# How to play a video ."
   ]
  },
  {
   "cell_type": "code",
   "execution_count": 32,
   "id": "6afe09d9",
   "metadata": {},
   "outputs": [],
   "source": [
    "import time\n",
    "cap = cv2.VideoCapture(\"output.avi\")\n",
    "\n",
    "while True:\n",
    "    ret, frame = cap.read()\n",
    "    \n",
    "    if not ret:  # Check if frame is None (end of the video)\n",
    "        break\n",
    "    \n",
    "    time.sleep(1/30)\n",
    "    cv2.imshow('webcam', frame)\n",
    "    \n",
    "    if cv2.waitKey(1) & 0xFF == ord('x'):\n",
    "        break\n",
    "\n",
    "cap.release()\n",
    "cv2.destroyAllWindows()"
   ]
  },
  {
   "cell_type": "markdown",
   "id": "3ab1e11a",
   "metadata": {},
   "source": [
    "# If we want to slow down the video"
   ]
  },
  {
   "cell_type": "code",
   "execution_count": 33,
   "id": "76327bb7",
   "metadata": {},
   "outputs": [],
   "source": [
    "import time\n",
    "cap = cv2.VideoCapture(\"output.avi\")\n",
    "\n",
    "while True:\n",
    "    ret, frame = cap.read()\n",
    "    \n",
    "    if not ret:  # Check if frame is None (end of the video)\n",
    "        break\n",
    "    \n",
    "    \n",
    "    time.sleep(0.1)\n",
    "    cv2.imshow('webcam', frame)\n",
    "    \n",
    "    if cv2.waitKey(1) & 0xFF == ord('x'):\n",
    "        break\n",
    "\n",
    "cap.release()\n",
    "cv2.destroyAllWindows()"
   ]
  },
  {
   "cell_type": "code",
   "execution_count": null,
   "id": "1d6dfa70",
   "metadata": {},
   "outputs": [],
   "source": []
  }
 ],
 "metadata": {
  "kernelspec": {
   "display_name": "Python 3 (ipykernel)",
   "language": "python",
   "name": "python3"
  },
  "language_info": {
   "codemirror_mode": {
    "name": "ipython",
    "version": 3
   },
   "file_extension": ".py",
   "mimetype": "text/x-python",
   "name": "python",
   "nbconvert_exporter": "python",
   "pygments_lexer": "ipython3",
   "version": "3.11.4"
  }
 },
 "nbformat": 4,
 "nbformat_minor": 5
}
